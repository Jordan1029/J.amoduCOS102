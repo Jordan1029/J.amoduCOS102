{
 "cells": [
  {
   "cell_type": "code",
   "execution_count": 1,
   "id": "b07ae304-4941-4a7a-b6ad-0eec61c66402",
   "metadata": {},
   "outputs": [
    {
     "name": "stdout",
     "output_type": "stream",
     "text": [
      "[101 201 301 401 501]\n",
      "<class 'numpy.ndarray'>\n"
     ]
    }
   ],
   "source": [
    "import numpy as np\n",
    "\n",
    "arr_ = np.array([101, 201, 301, 401, 501])\n",
    "\n",
    "print(arr_)  # Changed 'array' to 'arr_'\n",
    "\n",
    "print(type(arr_))  # Changed 'arr' to 'arr_'\n"
   ]
  },
  {
   "cell_type": "code",
   "execution_count": 2,
   "id": "9d875f5a-d251-4ae3-a1f3-46feb512bfa6",
   "metadata": {},
   "outputs": [
    {
     "name": "stdout",
     "output_type": "stream",
     "text": [
      "['Angel' 'Shemi' 'Marvel' 'Linda']\n",
      "[41 32 21 19]\n",
      "[['CSC102' '89']\n",
      " ['MTH 102' '77']\n",
      " ['CHM 102' '69']\n",
      " ['GST 102' '99']]\n"
     ]
    }
   ],
   "source": [
    "import numpy as np\n",
    "\n",
    "nameList = ['Angel', \"Shemi\", \"Marvel\", \"Linda\"]\n",
    "ageTuple = (41, 32, 21, 19)\n",
    "gradeDict = {\"CSC102\": 89, \"MTH 102\": 77, \"CHM 102\": 69, \"GST 102\": 99}\n",
    "\n",
    "# Correct variable names and use consistent case\n",
    "arr_nameList = np.array(nameList)  # Changed 'namelist' to 'nameList'\n",
    "arr_ageTuple = np.array(ageTuple)  # Changed 'ageTupple' to 'ageTuple'\n",
    "arr_gradeDict = np.array(list(gradeDict.items()))  # Changed 'gradedDict' to 'gradeDict' and converted dict to list of items\n",
    "\n",
    "print(arr_nameList)\n",
    "print(arr_ageTuple)\n",
    "print(arr_gradeDict)\n"
   ]
  },
  {
   "cell_type": "code",
   "execution_count": 3,
   "id": "22b12c79-3830-4168-9e23-3c02cf958e28",
   "metadata": {},
   "outputs": [
    {
     "name": "stdin",
     "output_type": "stream",
     "text": [
      "How many students are in the CSC 102 class? 7\n"
     ]
    },
    {
     "name": "stdout",
     "output_type": "stream",
     "text": [
      "There are 7 students in the CSC 102 class\n"
     ]
    }
   ],
   "source": [
    "import numpy as np\n",
    "\n",
    "classNum = int(input(\"How many students are in the CSC 102 class?\"))\n",
    "\n",
    "# If you're planning to use NumPy for a reason that might not be apparent in this snippet,\n",
    "# we can create an array, but it's not necessary for just the number count.\n",
    "class_arr = np.array([classNum])  # Store classNum in an array if needed for further processing\n",
    "\n",
    "if class_arr[0] == 1:  # Access the first element if using an array\n",
    "    print(\"There is only\", class_arr[0], \"student in the CSC 102 class\")\n",
    "else:\n",
    "    print(\"There are\", class_arr[0], \"students in the CSC 102 class\")\n"
   ]
  },
  {
   "cell_type": "code",
   "execution_count": 4,
   "id": "e086b160-0c1c-43a2-8d0c-1746c2ce00f3",
   "metadata": {},
   "outputs": [
    {
     "name": "stdout",
     "output_type": "stream",
     "text": [
      "[1 2 3 4 5]\n"
     ]
    }
   ],
   "source": [
    "import numpy as np\n",
    "\n",
    "arr = np.array([1, 2, 3, 4, 5])\n",
    "\n",
    "print(arr)\n"
   ]
  },
  {
   "cell_type": "code",
   "execution_count": 5,
   "id": "3e8f8d87-766f-4df6-b3a9-563760c043db",
   "metadata": {},
   "outputs": [
    {
     "name": "stdout",
     "output_type": "stream",
     "text": [
      "[[1 2 3]\n",
      " [4 5 6]]\n"
     ]
    }
   ],
   "source": [
    "import numpy as np\n",
    "\n",
    "arr = np.array([[1, 2, 3], [4, 5, 6]])\n",
    "\n",
    "print(arr)\n"
   ]
  },
  {
   "cell_type": "code",
   "execution_count": 6,
   "id": "ccf552d3-07db-4206-bd64-c06e4e8ad41a",
   "metadata": {},
   "outputs": [
    {
     "name": "stdout",
     "output_type": "stream",
     "text": [
      "[[[1 2 3]\n",
      "  [4 5 6]]\n",
      "\n",
      " [[1 2 3]\n",
      "  [4 5 6]]\n",
      "\n",
      " [[1 2 3]\n",
      "  [4 5 6]]]\n"
     ]
    }
   ],
   "source": [
    "import numpy as np\n",
    "\n",
    "# Adding the missing closing bracket for the numpy array\n",
    "arr = np.array([[[1, 2, 3], [4, 5, 6]], [[1, 2, 3], [4, 5, 6]], [[1, 2, 3], [4, 5, 6]]])\n",
    "\n",
    "print(arr)\n"
   ]
  },
  {
   "cell_type": "code",
   "execution_count": 7,
   "id": "44c79341-9cf4-43ca-83ef-6fe3b636b2f9",
   "metadata": {},
   "outputs": [
    {
     "name": "stdout",
     "output_type": "stream",
     "text": [
      "0\n",
      "3\n",
      "2\n",
      "1\n"
     ]
    }
   ],
   "source": [
    "import numpy as np\n",
    "\n",
    "# Change curly braces to parentheses for defining numpy arrays\n",
    "a = np.array(42)\n",
    "b = np.array([[[1, 2, 3], [4, 5, 6]], [[1, 2, 3], [4, 5, 6]], [[1, 2, 3], [4, 5, 6]]])\n",
    "c = np.array([[1, 2, 3], [4, 5, 6]])\n",
    "# Add the missing closing bracket\n",
    "d = np.array([1, 2, 3, 4, 5])\n",
    "\n",
    "print(a.ndim)  # Outputs the number of dimensions of array a\n",
    "print(b.ndim)  # Outputs the number of dimensions of array b\n",
    "print(c.ndim)  # Outputs the number of dimensions of array c\n",
    "print(d.ndim)  # Outputs the number of dimensions of array d\n"
   ]
  },
  {
   "cell_type": "code",
   "execution_count": 8,
   "id": "dd81f3a6-6b79-4c7d-b79c-39d000de6674",
   "metadata": {},
   "outputs": [
    {
     "name": "stdout",
     "output_type": "stream",
     "text": [
      "[[[[[[[[1 2 3 4]]]]]]]]\n",
      "number of dimensions : 8\n"
     ]
    }
   ],
   "source": [
    "import numpy as np\n",
    "\n",
    "# Correct the function name from np.aray to np.array\n",
    "arr = np.array([1, 2, 3, 4], ndmin=8)\n",
    "\n",
    "print(arr)\n",
    "print('number of dimensions :', arr.ndim)\n"
   ]
  },
  {
   "cell_type": "code",
   "execution_count": 10,
   "id": "096d5c9c-7941-473f-aef5-c68889faeb50",
   "metadata": {},
   "outputs": [
    {
     "name": "stdout",
     "output_type": "stream",
     "text": [
      "2\n"
     ]
    }
   ],
   "source": [
    "import numpy as np\n",
    "\n",
    "# Remove the extra bracket in the array definition\n",
    "arr = np.array([1, 2, 3, 4])\n",
    "\n",
    "# Remove the extra parenthesis in the print statement\n",
    "print(arr[1])\n"
   ]
  },
  {
   "cell_type": "code",
   "execution_count": 11,
   "id": "ed07b42c-55a7-4d49-a6a1-d51dfdeb99c3",
   "metadata": {},
   "outputs": [
    {
     "name": "stdout",
     "output_type": "stream",
     "text": [
      "5th element on 2nd row:  10\n"
     ]
    }
   ],
   "source": [
    "import numpy as np\n",
    "\n",
    "arr = np.array([[1, 2, 3, 4, 5], [6, 7, 8, 9, 10]])\n",
    "\n",
    "# Correct the index to access the 5th element on the 2nd row\n",
    "print('5th element on 2nd row: ', arr[1, 4])\n"
   ]
  },
  {
   "cell_type": "code",
   "execution_count": 12,
   "id": "3abc0025-d5be-4777-a291-d9e0ddc50c85",
   "metadata": {},
   "outputs": [
    {
     "name": "stdout",
     "output_type": "stream",
     "text": [
      "6\n"
     ]
    }
   ],
   "source": [
    "import numpy as np\n",
    "\n",
    "arr = np.array([[[1, 2, 3], [4, 5, 6]], [[7, 8, 9], [10, 11, 12]]])\n",
    "\n",
    "# Correctly access the element in the position [0, 1, 2]\n",
    "print(arr[0, 1, 2])\n"
   ]
  },
  {
   "cell_type": "code",
   "execution_count": 15,
   "id": "aac31c3b-3584-49a8-a377-af5b6e4a4ee1",
   "metadata": {},
   "outputs": [
    {
     "name": "stdout",
     "output_type": "stream",
     "text": [
      "Last element from 2nd dim:  10\n"
     ]
    }
   ],
   "source": [
    "import numpy as np\n",
    "\n",
    "arr = np.array([[1, 2, 3, 4, 5], [6, 7, 8, 9, 10]])\n",
    "\n",
    "# Correct the index to -1 to properly access the last element of the second dimension\n",
    "print('Last element from 2nd dim: ', arr[1, -1])\n"
   ]
  },
  {
   "cell_type": "code",
   "execution_count": 16,
   "id": "f43aaf3c-1eb8-471b-b146-2ee596363c5e",
   "metadata": {},
   "outputs": [
    {
     "name": "stdout",
     "output_type": "stream",
     "text": [
      "[2 3 4 5]\n"
     ]
    }
   ],
   "source": [
    "import numpy as np\n",
    "\n",
    "# Correct typo from 'nop' to 'np'\n",
    "arr = np.array([1, 2, 3, 4, 5, 6, 7])\n",
    "\n",
    "# Slice elements from index 1 to index 5 (the slice will include index 1 and exclude index 5)\n",
    "print(arr[1:5])\n"
   ]
  },
  {
   "cell_type": "code",
   "execution_count": 17,
   "id": "e63d53ec-cf2a-4b6c-ae2f-69d9fdd1ad2f",
   "metadata": {},
   "outputs": [
    {
     "name": "stdout",
     "output_type": "stream",
     "text": [
      "[5 6 7]\n"
     ]
    }
   ],
   "source": [
    "import numpy as np\n",
    "\n",
    "# Use square brackets for slicing instead of parentheses\n",
    "arr = np.array([1, 2, 3, 4, 5, 6, 7])\n",
    "\n",
    "# Slice elements from index 4 to the end of the array\n",
    "print(arr[4:])\n"
   ]
  },
  {
   "cell_type": "code",
   "execution_count": 18,
   "id": "d977aac8-8e62-4d7d-89e1-94181965aeb1",
   "metadata": {},
   "outputs": [
    {
     "name": "stdout",
     "output_type": "stream",
     "text": [
      "[1 2 3 4]\n"
     ]
    }
   ],
   "source": [
    "import numpy as np\n",
    "\n",
    "# Use correct syntax for the print function\n",
    "arr = np.array([1, 2, 3, 4, 5, 6, 7])\n",
    "\n",
    "# Slice elements from the beginning of the array to index 4, not including index 4\n",
    "print(arr[:4])\n"
   ]
  },
  {
   "cell_type": "code",
   "execution_count": 20,
   "id": "abe2f7f0-872d-4d59-8026-4d127343c135",
   "metadata": {},
   "outputs": [
    {
     "name": "stdout",
     "output_type": "stream",
     "text": [
      "int32\n",
      "<U6\n"
     ]
    }
   ],
   "source": [
    "import numpy as np\n",
    "\n",
    "int_arr = np.array([1, 2, 3, 4])\n",
    "str_arr = np.array(['apple', 'banana', 'cherry'])\n",
    "\n",
    "# Correctly print the data type of the integer array\n",
    "print(int_arr.dtype)\n",
    "\n",
    "# Correct the typo from 'dype' to 'dtype' for the string array\n",
    "print(str_arr.dtype)\n"
   ]
  },
  {
   "cell_type": "code",
   "execution_count": 22,
   "id": "23611237-1390-4e32-beca-98e2ea55ba3a",
   "metadata": {},
   "outputs": [
    {
     "name": "stdout",
     "output_type": "stream",
     "text": [
      "1 [1 2 3]\n",
      "2 [1 2 3]\n",
      "3 [1 2 3]\n",
      "4 [4 5 6]\n",
      "5 [4 5 6]\n",
      "6 [4 5 6]\n"
     ]
    }
   ],
   "source": [
    "import numpy as np\n",
    "\n",
    "# Correcting the typo from 'aray' to 'array'\n",
    "arr = np.array([[1, 2, 3], [4, 5, 6]])\n",
    "\n",
    "# Iterating through each element of the 2-D array\n",
    "for x in arr:\n",
    "    for y in x:\n",
    "        print(y,x)  # If you also want to print which sub-array 'y' belongs to, you can keep it as `print(y, x)`\n"
   ]
  },
  {
   "cell_type": "code",
   "execution_count": 23,
   "id": "9693f103-1aa9-4eaf-9458-d8a1f57a73fa",
   "metadata": {},
   "outputs": [
    {
     "name": "stdout",
     "output_type": "stream",
     "text": [
      "1\n",
      "2\n",
      "3\n",
      "4\n",
      "5\n",
      "6\n",
      "7\n",
      "8\n",
      "9\n",
      "10\n",
      "11\n",
      "12\n"
     ]
    }
   ],
   "source": [
    "import numpy as np\n",
    "\n",
    "arr = np.array([[[1, 2, 3], [4, 5, 6]], [[7, 8, 9], [10, 11, 12]]])\n",
    "\n",
    "# To iterate over every element in a 3-D array\n",
    "for block in arr:\n",
    "    for row in block:\n",
    "        for element in row:\n",
    "            print(element)\n"
   ]
  },
  {
   "cell_type": "code",
   "execution_count": 24,
   "id": "196bda37-6b99-43de-a9ae-7aaf1a73d282",
   "metadata": {},
   "outputs": [
    {
     "name": "stdout",
     "output_type": "stream",
     "text": [
      "[1 2 3 4 5 6]\n"
     ]
    }
   ],
   "source": [
    "import numpy as np\n",
    "\n",
    "# Correct the typo from 'aray' to 'array'\n",
    "arr1 = np.array([1, 2, 3])\n",
    "\n",
    "# Correct variable name arr2_\n",
    "arr2 = np.array([4, 5, 6])\n",
    "\n",
    "# Correct the variable reference in concatenate\n",
    "arr = np.concatenate((arr1, arr2))\n",
    "\n",
    "print(arr)\n"
   ]
  },
  {
   "cell_type": "code",
   "execution_count": 25,
   "id": "bbbb93da-04c5-4b86-93f5-d6ff5e926773",
   "metadata": {},
   "outputs": [
    {
     "name": "stdout",
     "output_type": "stream",
     "text": [
      "[array([1, 2]), array([3, 4]), array([5, 6])]\n"
     ]
    }
   ],
   "source": [
    "import numpy as np\n",
    "\n",
    "# Add the missing closing parenthesis for the np.array definition\n",
    "arr = np.array([1, 2, 3, 4, 5, 6])\n",
    "\n",
    "# Use np.array_split to split the array into 3 parts\n",
    "newarr = np.array_split(arr, 3)\n",
    "\n",
    "# Correct the print statement to use parentheses instead of brackets\n",
    "print(newarr)\n"
   ]
  },
  {
   "cell_type": "code",
   "execution_count": 26,
   "id": "8df46178-35cc-48d7-854a-a917c5875f33",
   "metadata": {},
   "outputs": [
    {
     "name": "stdout",
     "output_type": "stream",
     "text": [
      "[1 2]\n",
      "[3 4]\n",
      "[5 6]\n"
     ]
    }
   ],
   "source": [
    "import numpy as np\n",
    "\n",
    "# Correct array variable name in array_split\n",
    "arr = np.array([1, 2, 3, 4, 5, 6])\n",
    "newarr = np.array_split(arr, 3)\n",
    "\n",
    "# Correct print syntax to use parentheses instead of brackets\n",
    "print(newarr[0])\n",
    "print(newarr[1])\n",
    "print(newarr[2])\n"
   ]
  },
  {
   "cell_type": "code",
   "execution_count": 27,
   "id": "cf914aac-ab79-4d25-a06b-b3ff318431f0",
   "metadata": {},
   "outputs": [
    {
     "name": "stdout",
     "output_type": "stream",
     "text": [
      "[array([[1, 2],\n",
      "       [3, 4]]), array([[5, 6],\n",
      "       [7, 8]]), array([[ 9, 10],\n",
      "       [11, 12]])]\n"
     ]
    }
   ],
   "source": [
    "import numpy as np\n",
    "\n",
    "# Correct the array to use a list or sub-array instead of a set\n",
    "arr = np.array([[1, 2], [3, 4], [5, 6], [7, 8], [9, 10], [11, 12]])\n",
    "\n",
    "# Split the array into 3 parts\n",
    "newarr = np.array_split(arr, 3)\n",
    "\n",
    "# Print the resulting arrays from the split\n",
    "print(newarr)\n"
   ]
  },
  {
   "cell_type": "code",
   "execution_count": null,
   "id": "a6ad123c-620b-4ec1-bb5c-188e27c3ccb2",
   "metadata": {},
   "outputs": [],
   "source": []
  }
 ],
 "metadata": {
  "kernelspec": {
   "display_name": "Python 3 (ipykernel)",
   "language": "python",
   "name": "python3"
  },
  "language_info": {
   "codemirror_mode": {
    "name": "ipython",
    "version": 3
   },
   "file_extension": ".py",
   "mimetype": "text/x-python",
   "name": "python",
   "nbconvert_exporter": "python",
   "pygments_lexer": "ipython3",
   "version": "3.11.7"
  }
 },
 "nbformat": 4,
 "nbformat_minor": 5
}
