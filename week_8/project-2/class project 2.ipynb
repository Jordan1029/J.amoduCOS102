{
 "cells": [
  {
   "cell_type": "code",
   "execution_count": 7,
   "id": "5d844b5a-f385-4447-8dc4-9850a141fae1",
   "metadata": {},
   "outputs": [
    {
     "name": "stdout",
     "output_type": "stream",
     "text": [
      "Data saved to 'Cadbury_market.csv'\n"
     ]
    }
   ],
   "source": [
    "import pandas as pd\n",
    "\n",
    "def cadbury_data():\n",
    "    segment_data = {\n",
    "        'Refreshment Beverages': [\n",
    "            ('CADBURY BOURNVITA', 'Manufactured and Sold Locally'),\n",
    "            ('CADBURY 3-in-1 HOT CHOCOLATE', 'Manufactured and Sold Locally')\n",
    "        ],\n",
    "        'Confectionery': [\n",
    "            ('TOMTOM CLASSIC', 'Manufactured and Sold Locally'),\n",
    "            ('TOMTOM STRAWBERRY', 'Manufactured and Sold Locally'),\n",
    "            ('BUTTERMINT', 'Manufactured and Sold Locally')\n",
    "        ],\n",
    "        'Intermediate Cocoa Products': [\n",
    "            ('COCOCOA POWDER', 'Exported Internationally'),\n",
    "            ('COCOA BUTTER', 'Exported Internationally'),\n",
    "            ('LIQUOR', 'Exported Internationally'),\n",
    "            ('CAKE', 'Exported Internationally')\n",
    "        ]\n",
    "    }\n",
    "    records = []\n",
    "    for segment, products in segment_data.items():\n",
    "        for brand, product_type in products:\n",
    "            records.append({\n",
    "                'Segment': segment,\n",
    "                'Brand': brand,\n",
    "                'Product Type': product_type\n",
    "            })\n",
    "    df = pd.DataFrame(records)\n",
    "\n",
    "    df.to_csv('Cadbury_market.csv', index=False)\n",
    "    print(\"Data saved to 'Cadbury_market.csv'\")\n",
    "cadbury_data()\n"
   ]
  },
  {
   "cell_type": "code",
   "execution_count": null,
   "id": "6a352ba3-bfce-4278-8e5b-123c2d497b64",
   "metadata": {},
   "outputs": [],
   "source": []
  }
 ],
 "metadata": {
  "kernelspec": {
   "display_name": "Python 3 (ipykernel)",
   "language": "python",
   "name": "python3"
  },
  "language_info": {
   "codemirror_mode": {
    "name": "ipython",
    "version": 3
   },
   "file_extension": ".py",
   "mimetype": "text/x-python",
   "name": "python",
   "nbconvert_exporter": "python",
   "pygments_lexer": "ipython3",
   "version": "3.11.7"
  }
 },
 "nbformat": 4,
 "nbformat_minor": 5
}
