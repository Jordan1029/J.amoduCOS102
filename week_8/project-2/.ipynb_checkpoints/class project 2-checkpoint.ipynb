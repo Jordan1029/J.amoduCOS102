{
 "cells": [
  {
   "cell_type": "code",
   "execution_count": 1,
   "id": "5d844b5a-f385-4447-8dc4-9850a141fae1",
   "metadata": {},
   "outputs": [
    {
     "name": "stdout",
     "output_type": "stream",
     "text": [
      "Data saved to 'cadbury_market.csv'\n"
     ]
    }
   ],
   "source": [
    "import pandas as pd\n",
    "\n",
    "def save_cadbury_data():\n",
    "    # Data organization\n",
    "    data = {\n",
    "        'Segment': ['Refreshment Beverages', 'Refreshment Beverages', 'Confectionery', 'Confectionery', 'Confectionery', 'Intermediate Cocoa Products', 'Intermediate Cocoa Products', 'Intermediate Cocoa Products', 'Intermediate Cocoa Products'],\n",
    "        'Brand': ['CADBURY BOURNVITA', 'CADBURY 3-in-1 HOT CHOCOLATE', 'TOMTOM CLASSIC', 'TOMTOM STRAWBERRY', 'BUTTERMINT', 'COCOA POWDER', 'COCOA BUTTER', 'COCOA LIQUOR', 'COCOA CAKE'],\n",
    "        'Product Type': ['Manufactured & Sold Locally', 'Manufactured & Sold Locally', 'Manufactured & Sold Locally', 'Manufactured & Sold Locally', 'Manufactured & Sold Locally', 'Exported', 'Exported', 'Exported', 'Exported']\n",
    "    }\n",
    "\n",
    "    # Create DataFrame\n",
    "    df = pd.DataFrame(data)\n",
    "\n",
    "    # Save DataFrame to CSV\n",
    "    df.to_csv('cadbury_market.csv', index=False)\n",
    "    print(\"Data saved to 'cadbury_market.csv'\")\n",
    "\n",
    "# Run the function\n",
    "save_cadbury_data()\n"
   ]
  },
  {
   "cell_type": "code",
   "execution_count": null,
   "id": "7d00be30-3f95-46f9-a1d7-b69d9faf85d2",
   "metadata": {},
   "outputs": [],
   "source": []
  }
 ],
 "metadata": {
  "kernelspec": {
   "display_name": "Python 3 (ipykernel)",
   "language": "python",
   "name": "python3"
  },
  "language_info": {
   "codemirror_mode": {
    "name": "ipython",
    "version": 3
   },
   "file_extension": ".py",
   "mimetype": "text/x-python",
   "name": "python",
   "nbconvert_exporter": "python",
   "pygments_lexer": "ipython3",
   "version": "3.11.7"
  }
 },
 "nbformat": 4,
 "nbformat_minor": 5
}
