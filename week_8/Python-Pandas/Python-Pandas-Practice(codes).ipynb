{
 "cells": [
  {
   "cell_type": "code",
   "execution_count": 1,
   "id": "791f4f58-13ac-471e-b2cc-3b5c14bcbb1b",
   "metadata": {},
   "outputs": [
    {
     "name": "stdout",
     "output_type": "stream",
     "text": [
      "        0\n",
      "0     CSC\n",
      "1     102\n",
      "2      is\n",
      "3     the\n",
      "4    best\n",
      "5  course\n",
      "6    ever\n"
     ]
    }
   ],
   "source": [
    "import pandas as pd\n",
    "\n",
    "# List of strings\n",
    "lyst = ['CSC', '102', 'is', 'the', 'best', 'course', 'ever']\n",
    "\n",
    "# Calling DataFrame constructor on list\n",
    "df = pd.DataFrame(lyst)\n",
    "\n",
    "# Print the output.\n",
    "print(df)\n"
   ]
  },
  {
   "cell_type": "code",
   "execution_count": 2,
   "id": "9962be50-58ca-469c-bd3a-8ff7934d233d",
   "metadata": {},
   "outputs": [
    {
     "name": "stdout",
     "output_type": "stream",
     "text": [
      "       Name  Age\n",
      "0    Angela   20\n",
      "1  Precious   21\n",
      "2      Luis   19\n",
      "3       Ade   18\n",
      "4      John   20\n"
     ]
    }
   ],
   "source": [
    "import pandas as pd\n",
    "\n",
    "# Initialize data of lists with matched lengths.\n",
    "data = {\n",
    "    'Name': ['Angela', 'Precious', 'Luis', 'Ade', 'John'],  # Added 'John' to match the length of the Age list\n",
    "    'Age': [20, 21, 19, 18, 20]\n",
    "}\n",
    "\n",
    "# Create DataFrame\n",
    "df = pd.DataFrame(data)\n",
    "\n",
    "# Print the output.\n",
    "print(df)\n"
   ]
  },
  {
   "cell_type": "code",
   "execution_count": 3,
   "id": "06e7bc56-4a5c-41bb-b2c8-0bed6ffcf66c",
   "metadata": {},
   "outputs": [
    {
     "name": "stdout",
     "output_type": "stream",
     "text": [
      "     Name Qualification\n",
      "0    Clem           Msc\n",
      "1  Prince            MA\n",
      "2  Edward           MCA\n",
      "3   Adele           Phd\n"
     ]
    }
   ],
   "source": [
    "# Import pandas package\n",
    "import pandas as pd\n",
    " \n",
    "# Define a dictionary containing employee data\n",
    "data = {\n",
    "    'Name': ['Clem', 'Prince', 'Edward', 'Adele'],\n",
    "    'Age': [27, 24, 22, 32],\n",
    "    'Address': ['Abuja', 'Kano', 'Minna', 'Lagos'],\n",
    "    'Qualification': ['Msc', 'MA', 'MCA', 'Phd']\n",
    "}\n",
    " \n",
    "# Convert the dictionary into DataFrame \n",
    "df = pd.DataFrame(data)\n",
    " \n",
    "# Select two columns\n",
    "selected_columns = df[['Name', 'Qualification']]\n",
    "\n",
    "# Print the selected columns\n",
    "print(selected_columns)\n"
   ]
  },
  {
   "cell_type": "code",
   "execution_count": 4,
   "id": "f78859e8-472b-49a2-9d0c-dbb5c68befeb",
   "metadata": {},
   "outputs": [
    {
     "name": "stdout",
     "output_type": "stream",
     "text": [
      "Name              Oyin\n",
      "Age                 27\n",
      "Address          Asaba\n",
      "Qualification      Msc\n",
      "Name: 0, dtype: object\n"
     ]
    }
   ],
   "source": [
    "import pandas as pd  # Corrected alias\n",
    "\n",
    "# Define a dictionary containing employee data\n",
    "data = {\n",
    "    'Name': ['Oyin', 'Mary', 'David', 'Bola'],\n",
    "    'Age': [27, 24, 22, 32],\n",
    "    'Address': ['Asaba', 'Maiduguri', 'Onitsha', 'Kwara'],\n",
    "    'Qualification': ['Msc', 'MA', 'MCA', 'Phd']\n",
    "}\n",
    "\n",
    "# Convert the dictionary into DataFrame\n",
    "df = pd.DataFrame(data)  # Corrected method name\n",
    "\n",
    "# Select the first row\n",
    "first_row = df.iloc[0]\n",
    "\n",
    "# Print the first row\n",
    "print(first_row)\n"
   ]
  },
  {
   "cell_type": "code",
   "execution_count": 12,
   "id": "59b57322-2b77-48e4-907e-7340237a9d73",
   "metadata": {},
   "outputs": [
    {
     "name": "stdout",
     "output_type": "stream",
     "text": [
      "The file does not exist.\n"
     ]
    }
   ],
   "source": [
    "import pandas as pd\n",
    "\n",
    "# Try to load the data frame from a CSV file\n",
    "try:\n",
    "    # Making data frame from a csv file\n",
    "    # Ensure the file \"employe_records.csv\" is in the current directory or specify the full path\n",
    "    data = pd.read_csv(\"employe_records.csv\")\n",
    "    # Print the DataFrame to see the contents\n",
    "    print(data)\n",
    "except FileNotFoundError:\n",
    "    print(\"The file does not exist.\")\n",
    "except Exception as e:\n",
    "    print(\"An error occurred:\", e)\n"
   ]
  },
  {
   "cell_type": "code",
   "execution_count": 14,
   "id": "8bf36225-3f9c-400f-863a-6cfaf4ac13de",
   "metadata": {},
   "outputs": [
    {
     "name": "stdout",
     "output_type": "stream",
     "text": [
      "Error: The file 'employee_records.csv' does not exist in the current directory.\n"
     ]
    }
   ],
   "source": [
    "import pandas as pd\n",
    "\n",
    "try:\n",
    "    # Making data frame from a csv file\n",
    "    data = pd.read_csv(\"employee_records.csv\")\n",
    "\n",
    "    # Select the first row using iloc and store it in a new variable\n",
    "    df = data.iloc[0]\n",
    "\n",
    "    # Print the selected row\n",
    "    print(df)\n",
    "except FileNotFoundError:\n",
    "    print(\"Error: The file 'employee_records.csv' does not exist in the current directory.\")\n",
    "except Exception as e:\n",
    "    print(f\"An error occurred: {e}\")\n"
   ]
  },
  {
   "cell_type": "code",
   "execution_count": 1,
   "id": "0107b2d5-58c7-4f6c-a6b5-c7efb097e64d",
   "metadata": {},
   "outputs": [
    {
     "name": "stdout",
     "output_type": "stream",
     "text": [
      "The file 'bcg.csv' does not exist.\n"
     ]
    }
   ],
   "source": [
    "# Importing pandas package\n",
    "import pandas as pd\n",
    "\n",
    "# Making data frame from a CSV file\n",
    "try:\n",
    "    # Attempt to load the CSV file into a DataFrame\n",
    "    data = pd.read_csv(\"bcg.csv\")\n",
    "    \n",
    "    # Select the first row using head() and store it in a new variable\n",
    "    df = data.head(1)\n",
    "    \n",
    "    # Print the DataFrame to see the contents\n",
    "    print(df)\n",
    "except FileNotFoundError:\n",
    "    # If the file is not found, print an error message and exit\n",
    "    print(\"The file 'bcg.csv' does not exist.\")\n",
    "except pd.errors.EmptyDataError:\n",
    "    # Handle the case where the CSV is empty\n",
    "    print(\"No data: The file is empty.\")\n",
    "except pd.errors.ParserError:\n",
    "    # Handle parsing errors - often due to incorrect file format\n",
    "    print(\"Error parsing file: Check that the file is a properly formatted CSV.\")\n",
    "except Exception as e:\n",
    "    # Catch all other exceptions and print an error message\n",
    "    print(f\"An unexpected error occurred: {e}\")\n"
   ]
  },
  {
   "cell_type": "code",
   "execution_count": 2,
   "id": "a2eb1a60-5dea-475a-af62-fff86dc6ebf0",
   "metadata": {},
   "outputs": [
    {
     "name": "stdout",
     "output_type": "stream",
     "text": [
      "Index: 0\n",
      "name      Abdul\n",
      "degree      MBA\n",
      "score        90\n",
      "Name: 0, dtype: object\n",
      "\n",
      "Index: 1\n",
      "name      Chukwuemeka\n",
      "degree            BCA\n",
      "score              40\n",
      "Name: 1, dtype: object\n",
      "\n",
      "Index: 2\n",
      "name        Seyi\n",
      "degree    M.Tech\n",
      "score         80\n",
      "Name: 2, dtype: object\n",
      "\n",
      "Index: 3\n",
      "name      Matt\n",
      "degree     MBA\n",
      "score       98\n",
      "Name: 3, dtype: object\n",
      "\n"
     ]
    }
   ],
   "source": [
    "# Importing pandas as pd\n",
    "import pandas as pd\n",
    "  \n",
    "# Dictionary of lists\n",
    "data_dict = {'name': [\"Abdul\", \"Chukwuemeka\", \"Seyi\", \"Matt\"],\n",
    "             'degree': [\"MBA\", \"BCA\", \"M.Tech\", \"MBA\"],\n",
    "             'score': [90, 40, 80, 98]}\n",
    " \n",
    "# Creating a dataframe from a dictionary \n",
    "df = pd.DataFrame(data_dict)\n",
    "\n",
    "# Iterating over rows using iterrows() function \n",
    "for index, row in df.iterrows():\n",
    "    print(f\"Index: {index}\")\n",
    "    print(row)\n",
    "    print()  # Blank line for better separation of rows\n"
   ]
  },
  {
   "cell_type": "code",
   "execution_count": 3,
   "id": "48c296d3-c0d1-4ad5-9914-b3db98ab063a",
   "metadata": {},
   "outputs": [
    {
     "name": "stdout",
     "output_type": "stream",
     "text": [
      "Ugochi\n",
      "M.Tech\n",
      "80\n"
     ]
    }
   ],
   "source": [
    "# Importing pandas as pd\n",
    "import pandas as pd\n",
    "   \n",
    "# Dictionary of lists\n",
    "data = {'name': [\"Bello\", \"Kamara\", \"Ugochi\", \"David\"],\n",
    "        'degree': [\"MBA\", \"BCA\", \"M.Tech\", \"MBA\"],\n",
    "        'score': [90, 40, 80, 98]}\n",
    "  \n",
    "# Creating a dataframe from the dictionary \n",
    "df = pd.DataFrame(data)\n",
    "\n",
    "# Creating a list of dataframe columns\n",
    "columns = list(df.columns)\n",
    " \n",
    "for col in columns:\n",
    "    # Printing the third element of the column\n",
    "    print(df[col][2])\n"
   ]
  },
  {
   "cell_type": "code",
   "execution_count": 7,
   "id": "afc8e8f5-0a7e-4685-974f-d9b624730a50",
   "metadata": {},
   "outputs": [
    {
     "name": "stdout",
     "output_type": "stream",
     "text": [
      "DataFrame created successfully:\n",
      "       name  degree  score\n",
      "0     Abel     MBA     90\n",
      "1    Kamsi     BCA     40\n",
      "2    Oyode  M.Tech     80\n",
      "3  Chinelo     MBA     98\n",
      "DataFrame saved to CSV.\n"
     ]
    }
   ],
   "source": [
    "import pandas as pd\n",
    "\n",
    "# Dictionary of lists\n",
    "records = {'name': [\"Abel\", \"Kamsi\", \"Oyode\", \"Chinelo\"],\n",
    "           'degree': [\"MBA\", \"BCA\", \"M.Tech\", \"MBA\"],\n",
    "           'score': [90, 40, 80, 98]}\n",
    "\n",
    "# Creating a DataFrame from the dictionary\n",
    "df = pd.DataFrame(records)\n",
    "print(\"DataFrame created successfully:\\n\", df)\n",
    "\n",
    "# Saving the DataFrame\n",
    "df.to_csv('record.csv', index=False)\n",
    "print(\"DataFrame saved to CSV.\")\n"
   ]
  },
  {
   "cell_type": "code",
   "execution_count": null,
   "id": "b1ebd49c-caed-4c61-b7d8-dfe200323982",
   "metadata": {},
   "outputs": [],
   "source": []
  }
 ],
 "metadata": {
  "kernelspec": {
   "display_name": "Python 3 (ipykernel)",
   "language": "python",
   "name": "python3"
  },
  "language_info": {
   "codemirror_mode": {
    "name": "ipython",
    "version": 3
   },
   "file_extension": ".py",
   "mimetype": "text/x-python",
   "name": "python",
   "nbconvert_exporter": "python",
   "pygments_lexer": "ipython3",
   "version": "3.11.7"
  }
 },
 "nbformat": 4,
 "nbformat_minor": 5
}
