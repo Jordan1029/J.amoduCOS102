{
 "cells": [
  {
   "cell_type": "code",
   "execution_count": 8,
   "id": "166696e1-10aa-471b-9437-894288f39c7e",
   "metadata": {},
   "outputs": [],
   "source": [
    "import tkinter as tk\n",
    "from tkinter import messagebox\n",
    "import random\n",
    "\n",
    "class Management(tk.Tk):\n",
    "    def __init__(self):\n",
    "        tk.Tk.__init__(self)\n",
    "        self.title('Management System')\n",
    "        self.geometry('400x200')\n",
    "\n",
    "        self.label_name = tk.Label(self, text ='Name Please:')\n",
    "        self.label_name.pack()\n",
    "\n",
    "        self.entry_name = tk.Entry(self)\n",
    "        self.entry_name.pack()\n",
    "\n",
    "        self.button_submit = tk.Button(self, text=\"Submit\", command=self.check_employee)\n",
    "        self.button_submit.pack()\n",
    "\n",
    "        self.employees = [\"Mary Evans\", \n",
    "                          \"Eyo Ishan\", \n",
    "                          \"Durojaiye Dare\", \n",
    "                          \"Adams Ali\", \n",
    "                          \"Andrew Ugwu\",\n",
    "                          \"Stella Mankinde\", \n",
    "                          \"Jane Akibo\", \n",
    "                          \"Ago James\", \n",
    "                          \"Michell Taiwo\", \n",
    "                          \"Abraham Jones\",\n",
    "                          \"Nicole Anide\", \n",
    "                          \"Kosi Korso\", \n",
    "                          \"Adele Martins\", \n",
    "                          \"Emmanuel Ojo\", \n",
    "                          \"Ajayi Fatima\"]\n",
    "        self.tasks = [\"Loading\", \"Transporting\", \"Reviewing Orders\", \"Customer Service\", \"Delivering Items\"]\n",
    "\n",
    "    def check_employee(self):\n",
    "        name = self.entry_name.get()\n",
    "        if name in self.employees:\n",
    "            self.take_attendance(name)\n",
    "            self.assign_task(name)\n",
    "        else:\n",
    "            self.refuse_access()\n",
    "\n",
    "    def take_attendance(self, name):\n",
    "        messagebox.showinfo(\"Attendance\", f\"{name} is present today.\")\n",
    "\n",
    "    def assign_task(self, name):\n",
    "        task = random.choice(self.tasks)\n",
    "        messagebox.showinfo(\"Task Assignment\", f\"{name}, your task for today is: {task}\")\n",
    "\n",
    "    def refuse_access(self):\n",
    "        messagebox.showerror(\"Access Denied\", \"You are not an employee of this company.\")\n",
    "\n",
    "if __name__ == \"__main__\":\n",
    "    app = Management()\n",
    "    app.mainloop()\n"
   ]
  },
  {
   "cell_type": "code",
   "execution_count": null,
   "id": "463ea9a1-1022-44a7-ba59-da58eaa9f208",
   "metadata": {},
   "outputs": [],
   "source": []
  }
 ],
 "metadata": {
  "kernelspec": {
   "display_name": "Python 3 (ipykernel)",
   "language": "python",
   "name": "python3"
  },
  "language_info": {
   "codemirror_mode": {
    "name": "ipython",
    "version": 3
   },
   "file_extension": ".py",
   "mimetype": "text/x-python",
   "name": "python",
   "nbconvert_exporter": "python",
   "pygments_lexer": "ipython3",
   "version": "3.11.7"
  }
 },
 "nbformat": 4,
 "nbformat_minor": 5
}
