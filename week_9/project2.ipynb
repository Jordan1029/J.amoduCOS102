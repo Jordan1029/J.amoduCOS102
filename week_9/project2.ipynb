{
 "cells": [
  {
   "cell_type": "code",
   "execution_count": 2,
   "id": "56bd441a-1d48-4c2e-a078-6598643a5d31",
   "metadata": {},
   "outputs": [],
   "source": [
    "import tkinter as tk\n",
    "from tkinter import messagebox\n",
    "\n",
    "class DeliveryService(tk.Tk):\n",
    "    def __init__(self):\n",
    "        super().__init__()\n",
    "        self.title(\"Delivery Service\")\n",
    "        self.geometry(\"400x200\")\n",
    "\n",
    "        self.label_location = tk.Label(self, text=\"Select your location:\")\n",
    "        self.label_location.pack()\n",
    "\n",
    "        self.location_var = tk.StringVar(self)\n",
    "        self.location_var.set(\"PAU\")\n",
    "        self.locations = [\"PAU\", \"Epe\"]\n",
    "        self.location_menu = tk.OptionMenu(self, self.location_var, *self.locations)\n",
    "        self.location_menu.pack()\n",
    "\n",
    "        self.label_weight = tk.Label(self, text=\"Enter package weight (in kg):\")\n",
    "        self.label_weight.pack()\n",
    "\n",
    "        self.entry_weight = tk.Entry(self)\n",
    "        self.entry_weight.pack()\n",
    "\n",
    "        self.button_submit = tk.Button(self, text=\"Calculate\", command=self.calculate_charge)\n",
    "        self.button_submit.pack()\n",
    "\n",
    "    def calculate_charge(self):\n",
    "        location = self.location_var.get()\n",
    "        weight = float(self.entry_weight.get())\n",
    "\n",
    "        if location == \"PAU\":\n",
    "            if weight >= 10:\n",
    "                charge = 2000\n",
    "            else:\n",
    "                charge = 1500\n",
    "        elif location == \"Epe\":\n",
    "            if weight >= 10:\n",
    "                charge = 5000\n",
    "            else:\n",
    "                charge = 4000\n",
    "\n",
    "        messagebox.showinfo(\"Delivery Charge\", f\"The delivery charge to {location} for a package weighing {weight}kg is N{charge}.\")\n",
    "\n",
    "if __name__ == \"__main__\":\n",
    "    app = DeliveryService()\n",
    "    app.mainloop()\n"
   ]
  },
  {
   "cell_type": "code",
   "execution_count": null,
   "id": "d92b7167-1320-4f32-9910-3ffa449f015a",
   "metadata": {},
   "outputs": [],
   "source": []
  }
 ],
 "metadata": {
  "kernelspec": {
   "display_name": "Python 3 (ipykernel)",
   "language": "python",
   "name": "python3"
  },
  "language_info": {
   "codemirror_mode": {
    "name": "ipython",
    "version": 3
   },
   "file_extension": ".py",
   "mimetype": "text/x-python",
   "name": "python",
   "nbconvert_exporter": "python",
   "pygments_lexer": "ipython3",
   "version": "3.11.7"
  }
 },
 "nbformat": 4,
 "nbformat_minor": 5
}
