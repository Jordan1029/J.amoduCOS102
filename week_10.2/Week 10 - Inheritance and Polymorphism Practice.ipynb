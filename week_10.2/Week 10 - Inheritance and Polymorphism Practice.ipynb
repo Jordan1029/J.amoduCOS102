{
 "cells": [
  {
   "cell_type": "markdown",
   "metadata": {},
   "source": [
    "# Inheritance in Python"
   ]
  },
  {
   "cell_type": "markdown",
   "metadata": {},
   "source": [
    "Inheritance is the capability of one class to derive or inherit the properties from another class. The benefits of inheritance are: \n",
    " \n",
    "<ol><li>\n",
    "It represents real-world relationships well.</li><li>\n",
    "It provides reusability of a code, so that you don’t have to write the same code again and again. </li><li>It allows for adding more features to a class without modifying it.</li><li>\n",
    "It is transitive in nature, which means that if class B inherits from another class A, then all the subclasses of B would automatically inherit from class A.</li><ol>"
   ]
  },
  {
   "cell_type": "markdown",
   "metadata": {},
   "source": [
    "### A Python program to demonstrate inheritance"
   ]
  },
  {
   "cell_type": "code",
   "execution_count": 3,
   "metadata": {},
   "outputs": [
    {
     "name": "stdout",
     "output_type": "stream",
     "text": [
      "Segun Da-Silver False\n",
      "Omotayo Ayeni True\n"
     ]
    }
   ],
   "source": [
    "class Person:\n",
    "    def __init__(self, name, age):\n",
    "        self.name = name\n",
    "        self.age = age\n",
    "    def get_name(self):\n",
    "        return self.name\n",
    "    def get_age(self):\n",
    "        return self.age\n",
    "    def isEmployee(self):\n",
    "        return False\n",
    "class Employee(Person):\n",
    "    def __init__(self, name, age):\n",
    "        super().__init__(name, age)\n",
    "    def isEmployee(self):\n",
    "        return True\n",
    "emp1 = Person(\"Segun Da-Silver\", 23) \n",
    "print(emp1.get_name(), emp1.isEmployee())\n",
    "emp2 = Employee(\"Omotayo Ayeni\", 30) \n",
    "print(emp2.get_name(), emp2.isEmployee())\n"
   ]
  },
  {
   "cell_type": "markdown",
   "metadata": {},
   "source": [
    "### What is object class? \n",
    "In Python (from version 3.x), object is root of all classes. \n",
    "In Python 3.x, <b>“class Test(object)”</b> and <b>“class Test”</b> are same. \n",
    "\n",
    "### Subclassing (Calling constructor of parent class) \n",
    "<ul><li>A child class needs to identify which class is its parent class.</li><li> This can be done by mentioning the parent class name in the definition of the child class. \n",
    "Eg: class subclass_name (superclass_name): </li></ul>"
   ]
  },
  {
   "cell_type": "code",
   "execution_count": 4,
   "metadata": {},
   "outputs": [
    {
     "name": "stdout",
     "output_type": "stream",
     "text": [
      "Name: Adedoyin Adeniji\n",
      "ID No.: 886012\n"
     ]
    }
   ],
   "source": [
    "class Person:\n",
    "    def __init__(self, name, idnumber):\n",
    "        self.name = name\n",
    "        self.idnumber = idnumber \n",
    "    def display(self):\n",
    "        print(\"Name:\", self.name)\n",
    "        print(\"ID No.:\", self.idnumber)\n",
    "class Employee(Person):\n",
    "    def __init__(self, name, idnumber, salary, post):\n",
    "        super().__init__(name, idnumber)\n",
    "        self.salary = salary\n",
    "        self.post = post\n",
    "a = Employee('Adedoyin Adeniji', 886012, 200000, \"Intern\")\n",
    "a.display()\n"
   ]
  },
  {
   "cell_type": "markdown",
   "metadata": {},
   "source": [
    "### Note that:\n",
    "<ul><li>In Python, every class inherits from a built-in basic class called ‘object’. The constructor i.e. the ‘__init__’ function of a class is invoked when we create an object variable or an instance of the class.</li><li>\n",
    "The variables defined within __init__() are called as the instance variables or objects. Hence, ‘name’ and ‘idnumber’ are the objects of the class Person. Similarly, ‘salary’ and ‘post’ are the objects of the class Employee.</li><li> Since the class Employee inherits from class Person, ‘name’ and ‘idnumber’ are also the objects of class Employee.</li><li>\n",
    "If you forget to invoke the __init__() of the parent class then its instance variables would not be available to the child class. </li></ul>"
   ]
  },
  {
   "cell_type": "code",
   "execution_count": 5,
   "metadata": {},
   "outputs": [
    {
     "name": "stdout",
     "output_type": "stream",
     "text": [
      "23\n"
     ]
    }
   ],
   "source": [
    "class A:\n",
    "    def __init__(self, n = 'Emmanuel Abbah'):\n",
    "        self.name = n        \n",
    "class B(A):\n",
    "    def __init__(self, roll):\n",
    "        self.roll = roll\n",
    "object = B(23)\n",
    "print (object.roll)\n"
   ]
  },
  {
   "cell_type": "markdown",
   "metadata": {},
   "source": [
    "## Types of Inheritance in Python\n",
    "There are four types of inheritance in Python. The type of Inheritance depends upon the number of child and parent classes involved. : \n",
    "\n",
    "#### Single Inheritance:\n",
    "<ul><li> Single inheritance enables a derived class to inherit properties from a single parent class, thus enabling code reusability and the addition of new features to existing code.</li></ul>"
   ]
  },
  {
   "cell_type": "code",
   "execution_count": 7,
   "metadata": {},
   "outputs": [
    {
     "name": "stdout",
     "output_type": "stream",
     "text": [
      "This function is in the parent class.\n",
      "This function is in the child class.\n"
     ]
    }
   ],
   "source": [
    "class Parent:\n",
    "    def func1(self):\n",
    "        print(\"This function is in the parent class.\")\n",
    "class Child(Parent):\n",
    "    def func2(self):\n",
    "        print(\"This function is in the child class.\")\n",
    "obj = Child()\n",
    "obj.func1()  \n",
    "obj.func2()  \n"
   ]
  },
  {
   "cell_type": "markdown",
   "metadata": {},
   "source": [
    "#### Multiple Inheritance:\n",
    "<ul><li>When a class can be derived from more than one base class this type of inheritance is called multiple inheritance. </li><li>In multiple inheritance, all the features of the base classes are inherited into the derived class. </li></ul>\n",
    " "
   ]
  },
  {
   "cell_type": "code",
   "execution_count": 8,
   "metadata": {},
   "outputs": [
    {
     "name": "stdout",
     "output_type": "stream",
     "text": [
      "Father: Paul Abiodun\n",
      "Mother: Caroline Aina\n"
     ]
    }
   ],
   "source": [
    "class Mother:\n",
    "    motherName = \"Caroline Aina\"\n",
    "    def mother(self):\n",
    "        print(self.motherName)\n",
    "class Father:\n",
    "    fatherName = \"Paul Abiodun\"\n",
    "    def father(self):\n",
    "        print(self.fatherName)\n",
    "class Son(Mother, Father):\n",
    "    def parents(self):\n",
    "        print(\"Father:\", self.fatherName)\n",
    "        print(\"Mother:\", self.motherName)\n",
    "s1 = Son()\n",
    "s1.parents()\n"
   ]
  },
  {
   "cell_type": "markdown",
   "metadata": {},
   "source": [
    "#### Multilevel Inheritance\n",
    "<ul><li>In multilevel inheritance, features of the base class and the derived class are further inherited into the new derived class.</li><li> This is similar to a relationship representing a child and grandfather.</li></ul> "
   ]
  },
  {
   "cell_type": "code",
   "execution_count": 9,
   "metadata": {},
   "outputs": [
    {
     "name": "stdout",
     "output_type": "stream",
     "text": [
      "Grandfather name: Oluwafemi\n",
      "Father name: Abiodun\n",
      "Son name: Gbenga\n"
     ]
    }
   ],
   "source": [
    "class Grandfather:\n",
    "    def __init__(self, grandfathername):\n",
    "        self.grandfathername = grandfathername\n",
    "class Father(Grandfather):\n",
    "    def __init__(self, fathername, grandfathername):\n",
    "        self.fathername = fathername\n",
    "        super().__init__(grandfathername)\n",
    "class Son(Father):\n",
    "    def __init__(self, sonname, fathername, grandfathername):\n",
    "        self.sonname = sonname\n",
    "        super().__init__(fathername, grandfathername)\n",
    "    def print_name(self):\n",
    "        print('Grandfather name:', self.grandfathername)\n",
    "        print('Father name:', self.fathername)\n",
    "        print('Son name:', self.sonname)\n",
    "s1 = Son('Gbenga', 'Abiodun', 'Oluwafemi')\n",
    "s1.print_name()\n"
   ]
  },
  {
   "cell_type": "markdown",
   "metadata": {},
   "source": [
    "#### Hierarchical Inheritance:\n",
    "<ul><li>When more than one derived classes are created from a single base this type of inheritance is called hierarchical inheritance.</li><li> In this program, we have a parent (base) class and two child (derived) classes.</li></ul>"
   ]
  },
  {
   "cell_type": "code",
   "execution_count": 10,
   "metadata": {},
   "outputs": [
    {
     "name": "stdout",
     "output_type": "stream",
     "text": [
      "This function is in the parent class.\n",
      "This function is in child 1.\n",
      "This function is in the parent class.\n",
      "This function is in child 2.\n"
     ]
    }
   ],
   "source": [
    "class Parent:\n",
    "    def func1(self):\n",
    "        print(\"This function is in the parent class.\")\n",
    "class Child1(Parent):\n",
    "    def func2(self):\n",
    "        print(\"This function is in child 1.\")\n",
    "class Child2(Parent):\n",
    "    def func3(self):\n",
    "        print(\"This function is in child 2.\")\n",
    "object1 = Child1()\n",
    "object2 = Child2()\n",
    "object1.func1()  \n",
    "object1.func2()  \n",
    "object2.func1()  \n",
    "object2.func3()  \n"
   ]
  },
  {
   "cell_type": "markdown",
   "metadata": {},
   "source": [
    "#### Hybrid Inheritance:\n",
    "<ul><li>Inheritance consisting of multiple types of inheritance is called hybrid inheritance.</li></ul>"
   ]
  },
  {
   "cell_type": "code",
   "execution_count": 12,
   "metadata": {},
   "outputs": [
    {
     "name": "stdout",
     "output_type": "stream",
     "text": [
      "This function is in school.\n",
      "This function is in student 1.\n",
      "This function is in student 3.\n"
     ]
    }
   ],
   "source": [
    "class School:\n",
    "    def func1(self):\n",
    "        print(\"This function is in school.\")\n",
    "class Student1(School):\n",
    "    def func2(self):\n",
    "        print(\"This function is in student 1.\")\n",
    "class Student2(School):\n",
    "    def func3(self):\n",
    "        print(\"This function is in student 2.\")\n",
    "class Student3(Student1, School): \n",
    "    def func4(self):\n",
    "        print(\"This function is in student 3.\")\n",
    "obj = Student3()\n",
    "obj.func1()  \n",
    "obj.func2()  \n",
    "obj.func4()  "
   ]
  },
  {
   "cell_type": "markdown",
   "metadata": {},
   "source": [
    "# Polymorphism in Python"
   ]
  },
  {
   "cell_type": "markdown",
   "metadata": {},
   "source": [
    "<ul><li>In programming, Polymorphism is a concept of OOP.</li><li>The word polymorphism means having many forms.</li><li>\n",
    "    It enables using a single interface with the input of different data types, different classes or maybe for a different number of inputs.</li><li>Polymorphism means the same function name (but different signatures) being used for different types.</li></ul>"
   ]
  },
  {
   "cell_type": "markdown",
   "metadata": {},
   "source": [
    "### Inbuilt polymorphic function"
   ]
  },
  {
   "cell_type": "code",
   "execution_count": 13,
   "metadata": {},
   "outputs": [
    {
     "name": "stdout",
     "output_type": "stream",
     "text": [
      "30\n",
      "7\n"
     ]
    }
   ],
   "source": [
    "print(len(\"Department of Computer Science\"))\n",
    "print(len([10, 20, 30, 40, 50, 60, 70]))\n"
   ]
  },
  {
   "cell_type": "markdown",
   "metadata": {},
   "source": [
    "### User-defined polymorphic functions : "
   ]
  },
  {
   "cell_type": "code",
   "execution_count": 14,
   "metadata": {},
   "outputs": [
    {
     "name": "stdout",
     "output_type": "stream",
     "text": [
      "9\n",
      "13\n",
      "16\n"
     ]
    }
   ],
   "source": [
    "def add(x, y, z=0, w=4): \n",
    "    return x + y + z + w\n",
    "print(add(2, 3))        \n",
    "print(add(2, 3, 4))      \n",
    "print(add(2, 3, 5, 6))   \n"
   ]
  },
  {
   "cell_type": "markdown",
   "metadata": {},
   "source": [
    "### Polymorphism with class methods: \n",
    "<ul><li>The code below shows how Python can use two different class types, in the same way.</li><li> We create a for loop that iterates through a tuple of objects. Then call the methods without being concerned about which class type each object is. We assume that these methods actually exist in each class.</li></ul> "
   ]
  },
  {
   "cell_type": "code",
   "execution_count": 15,
   "metadata": {},
   "outputs": [
    {
     "name": "stdout",
     "output_type": "stream",
     "text": [
      "Abuja is the capital of Nigeria.\n",
      "English is the official language of Nigeria.\n",
      "Nigeria is the giant of Africa.\n",
      "Lome is the capital of Togo.\n",
      "French is the primary language of Togo.\n",
      "Togo is known for its palm-lined beaches and hilltop villages.\n"
     ]
    }
   ],
   "source": [
    "class Nigeria:\n",
    "    def capital(self):\n",
    "        print(\"Abuja is the capital of Nigeria.\") \n",
    "    def language(self):\n",
    "        print(\"English is the official language of Nigeria.\")\n",
    "    def type(self):\n",
    "        print(\"Nigeria is the giant of Africa.\")\n",
    "class Togo:\n",
    "    def capital(self):\n",
    "        print(\"Lome is the capital of Togo.\")\n",
    "    def language(self):\n",
    "        print(\"French is the primary language of Togo.\")\n",
    "    def type(self):\n",
    "        print(\"Togo is known for its palm-lined beaches and hilltop villages.\")\n",
    "obj_naija = Nigeria()\n",
    "obj_togo = Togo()\n",
    "for country in (obj_naija, obj_togo):\n",
    "    country.capital()\n",
    "    country.language()\n",
    "    country.type()"
   ]
  },
  {
   "cell_type": "markdown",
   "metadata": {},
   "source": [
    "### Polymorphism with Inheritance:\n",
    "<ul><li>In Python, Polymorphism lets us define methods in the child class that have the same name as the methods in the parent class. In inheritance, the child class inherits the methods from the parent class.</li><li> However, it is possible to modify a method in a child class that it has inherited from the parent class.</li><li> This is particularly useful in cases where the method inherited from the parent class doesn’t quite fit the child class. In such cases, we re-implement the method in the child class.</li><li> This process of re-implementing a method in the child class is known as <b>Method Overriding. </b> </li></ul>"
   ]
  },
  {
   "cell_type": "code",
   "execution_count": 17,
   "metadata": {},
   "outputs": [
    {
     "name": "stdout",
     "output_type": "stream",
     "text": [
      "There are many types of birds.\n",
      "Most of the birds can fly but some cannot.\n",
      "There are many types of birds.\n",
      "Sparrows can fly.\n",
      "There are many types of birds.\n",
      "Ostriches cannot fly.\n"
     ]
    }
   ],
   "source": [
    "class Bird:\n",
    "    def intro(self):\n",
    "        print(\"There are many types of birds.\")\n",
    "    def flight(self):\n",
    "        print(\"Most of the birds can fly but some cannot.\")\n",
    "class Sparrow(Bird):\n",
    "    def flight(self):\n",
    "        print(\"Sparrows can fly.\")\n",
    "class Ostrich(Bird):\n",
    "    def flight(self):\n",
    "        print(\"Ostriches cannot fly.\")\n",
    "obj_bird = Bird()\n",
    "obj_spr = Sparrow()\n",
    "obj_ost = Ostrich()\n",
    "obj_bird.intro()\n",
    "obj_bird.flight()  \n",
    "obj_spr.intro()\n",
    "obj_spr.flight()  \n",
    "obj_ost.intro()\n",
    "obj_ost.flight() "
   ]
  },
  {
   "cell_type": "markdown",
   "metadata": {},
   "source": [
    "# Class Project I"
   ]
  },
  {
   "cell_type": "markdown",
   "metadata": {},
   "source": [
    "Mary, Agatha and Noel work with Zenith Bank Nigeria. Mary works in the Retail Banking Division, Agatha works in the Global Banking Division and Noel works in the Commercial Banking Division. The three divisions have some unique services and some mutual services as indicated:\n",
    "\n",
    "#### Retail Banking:\n",
    "<ul><li>Lines of credit</li><li>\n",
    "Investment management and accounts</li><li>\n",
    "Insurance</li><li>\n",
    "Retirement and education accounts</li><li>\n",
    "    loans and mortgagges</li><li>\n",
    "    Checking and saving</li></ul>\n",
    "\n",
    "#### Global Banking:\n",
    "<ul><li>Multi-currency management services and products</li><li>\n",
    "Foreign currency accounts</li><li>\n",
    "Foreign currency credit cards</li><li>\n",
    "Transborder advisory services</li><li>\n",
    "Liquidity management</li></ul>\n",
    "\n",
    "#### Commercial Banking:\n",
    "<ul><li>Lines of credit</li><li>\n",
    "Investment management and accounts</li><li>\n",
    "Insurance</li><li>\n",
    "Advisory services</li></ul>\n",
    "\n",
    "With your knowledge in OOP develop a python GUI program that will take as input an employee name and division, and then displays the service rendered in the division. The program should highlght key concepts of OOP; class objects inheritance and polymorphism.\n",
    "\n",
    "#### Hints:\n",
    "<ul><li>Create parent class <b>zenith()</b> with two methods <b>unique_services()</b> and <b>mutual_services()</b></li><li>\n",
    "    The different divisions can be subclasses of the parent class, inheriting the parent methods.</li><li>\n",
    "    Ploymorphism can be used to overide exclusive services.</li><ul>"
   ]
  },
  {
   "cell_type": "code",
   "execution_count": 26,
   "metadata": {},
   "outputs": [],
   "source": [
    "import tkinter as tk\n",
    "from tkinter import messagebox\n",
    "class Zenith:\n",
    "    def unique_services(self):\n",
    "        return []\n",
    "    def mutual_services(self):\n",
    "        return ['Lines of credit', 'Investment management and accounts', 'Insurance']\n",
    "class RetailBanking(Zenith):\n",
    "    def unique_services(self):\n",
    "        return ['Retirement and education accounts', 'Loans and mortgages', 'Checking and savings']\n",
    "class GlobalBanking(Zenith):\n",
    "    def unique_services(self):\n",
    "        return ['Multi-currency management services and products', 'Foreign currency accounts', 'Foreign currency credit cards', 'Transborder advisory services', 'Liquidity management']\n",
    "class CommercialBanking(Zenith):\n",
    "    def unique_services(self):\n",
    "        return ['Advisory services']\n",
    "def get_services(name, division):\n",
    "    division_dict = {\n",
    "        \"Retail Banking\": RetailBanking(),\n",
    "        \"Global Banking\": GlobalBanking(),\n",
    "        \"Commercial Banking\": CommercialBanking()\n",
    "    }\n",
    "    division_obj = division_dict.get(division, None)\n",
    "    if division_obj:\n",
    "        unique_services = division_obj.unique_services()\n",
    "        mutual_services = division_obj.mutual_services()\n",
    "        all_services = unique_services + mutual_services\n",
    "        return all_services\n",
    "    else:\n",
    "        return None\n",
    "class Application(tk.Tk):\n",
    "    def __init__(self):\n",
    "        super().__init__()\n",
    "        self.title(\"Zenith Bank Services\")\n",
    "        self.geometry(\"400x300\")\n",
    "        self.label_name = tk.Label(self, text=\"Employee's Name:\")\n",
    "        self.label_name.pack()\n",
    "        self.entry_name = tk.Entry(self)\n",
    "        self.entry_name.pack()\n",
    "        self.label_division = tk.Label(self, text=\"Division:\")\n",
    "        self.label_division.pack()\n",
    "        self.division_var = tk.StringVar()\n",
    "        self.optionmenu_division = tk.OptionMenu(self, self.division_var, \"Retail Banking\", \"Global Banking\", \"Commercial Banking\")\n",
    "        self.optionmenu_division.pack()\n",
    "        self.button_submit = tk.Button(self, text=\"Get Services\", command=self.display_services)\n",
    "        self.button_submit.pack()\n",
    "        self.text_output = tk.Text(self, height=10, width=40)\n",
    "        self.text_output.pack()\n",
    "    def display_services(self):\n",
    "        name = self.entry_name.get()\n",
    "        division = self.division_var.get()       \n",
    "        if not name or not division:\n",
    "            messagebox.showwarning(\"Input Error\", \"Name and division please.\")\n",
    "            return     \n",
    "        services = get_services(name, division)\n",
    "        if services:\n",
    "            self.text_output.delete(1.0, tk.END)\n",
    "            self.text_output.insert(tk.END, f\"Services for {name} in {division}:\\n\")\n",
    "            for service in services:\n",
    "                self.text_output.insert(tk.END, f\"- {service}\\n\")\n",
    "        else:\n",
    "            messagebox.showerror(\"Error\", \"Invalid division selected.\")\n",
    "if __name__ == \"__main__\":\n",
    "    app = Application()\n",
    "    app.mainloop()\n"
   ]
  },
  {
   "cell_type": "code",
   "execution_count": null,
   "metadata": {},
   "outputs": [],
   "source": []
  }
 ],
 "metadata": {
  "kernelspec": {
   "display_name": "Python 3 (ipykernel)",
   "language": "python",
   "name": "python3"
  },
  "language_info": {
   "codemirror_mode": {
    "name": "ipython",
    "version": 3
   },
   "file_extension": ".py",
   "mimetype": "text/x-python",
   "name": "python",
   "nbconvert_exporter": "python",
   "pygments_lexer": "ipython3",
   "version": "3.11.7"
  }
 },
 "nbformat": 4,
 "nbformat_minor": 4
}
